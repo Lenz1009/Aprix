{
  "nbformat": 4,
  "nbformat_minor": 0,
  "metadata": {
    "colab": {
      "provenance": [],
      "authorship_tag": "ABX9TyP+NM+t1kqI3iDJBotTRR1G",
      "include_colab_link": true
    },
    "kernelspec": {
      "name": "python3",
      "display_name": "Python 3"
    },
    "language_info": {
      "name": "python"
    }
  },
  "cells": [
    {
      "cell_type": "markdown",
      "metadata": {
        "id": "view-in-github",
        "colab_type": "text"
      },
      "source": [
        "<a href=\"https://colab.research.google.com/github/Lenz1009/Aprix/blob/main/Colab_1.ipynb\" target=\"_parent\"><img src=\"https://colab.research.google.com/assets/colab-badge.svg\" alt=\"Open In Colab\"/></a>"
      ]
    },
    {
      "cell_type": "code",
      "execution_count": 34,
      "metadata": {
        "id": "k0sBY_r9CtyA"
      },
      "outputs": [],
      "source": [
        "Alcance_Insta = \"https://raw.githubusercontent.com/Lenz1009/Aprix/main/Instagram/Alcance.csv\"\n",
        "Conteudos_Insta = \"https://raw.githubusercontent.com/Lenz1009/Aprix/main/Instagram/Conte%C3%BAdo.csv\"\n",
        "Seguidores_Insta = \"https://raw.githubusercontent.com/Lenz1009/Aprix/main/Instagram/Seguidores.csv\"\n",
        "Visitas_Insta = \"https://raw.githubusercontent.com/Lenz1009/Aprix/main/Instagram/Visitas.csv\""
      ]
    },
    {
      "cell_type": "code",
      "source": [
        "import numpy as np"
      ],
      "metadata": {
        "id": "Z95SUQZhIasn"
      },
      "execution_count": 35,
      "outputs": []
    },
    {
      "cell_type": "code",
      "source": [
        "np.loadtxt?"
      ],
      "metadata": {
        "id": "xyol-oIaJDyx"
      },
      "execution_count": 36,
      "outputs": []
    },
    {
      "cell_type": "code",
      "source": [
        "Data = np.loadtxt(Alcance_Insta, delimiter=\",\",skiprows=2, usecols=0, dtype=str)\n",
        "Val_Alc = np.loadtxt(Alcance_Insta, delimiter=\",\",skiprows=2, usecols=1, dtype=int)"
      ],
      "metadata": {
        "id": "uT85ExNFImQY"
      },
      "execution_count": 37,
      "outputs": []
    },
    {
      "cell_type": "code",
      "source": [
        "range?"
      ],
      "metadata": {
        "id": "VD4bVdpoKR9B"
      },
      "execution_count": 38,
      "outputs": []
    },
    {
      "cell_type": "code",
      "source": [
        "Alcance = [Data, Val_Alc]"
      ],
      "metadata": {
        "id": "s-c6R9QILeFz"
      },
      "execution_count": 39,
      "outputs": []
    },
    {
      "cell_type": "code",
      "source": [
        "for i in range(0, len(Alcance[0])):\n",
        "  print(f\"{Alcance[0][i]}  -  {Alcance[1][i]}\")"
      ],
      "metadata": {
        "id": "M36YrAJfLsVN"
      },
      "execution_count": null,
      "outputs": []
    },
    {
      "cell_type": "code",
      "source": [],
      "metadata": {
        "id": "djCJJn_UM9wG"
      },
      "execution_count": null,
      "outputs": []
    }
  ]
}